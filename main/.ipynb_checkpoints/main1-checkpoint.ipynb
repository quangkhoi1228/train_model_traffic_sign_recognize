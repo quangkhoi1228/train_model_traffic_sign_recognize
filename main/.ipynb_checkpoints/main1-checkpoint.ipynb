{
 "cells": [
  {
   "cell_type": "code",
   "execution_count": 1,
   "metadata": {
    "colab": {},
    "colab_type": "code",
    "id": "hge0sjmOJNJd"
   },
   "outputs": [],
   "source": [
    "import cv2\n",
    "import requests\n",
    "from PIL import Image\n",
    "import matplotlib.pyplot as plt\n",
    "# url = 'https://cdn.pixabay.com/photo/2013/07/13/13/16/traffic-sign-160709_960_720.png'\n",
    "# r = requests.get(url, stream=True)\n",
    "# img = Image.open(r.raw)\n",
    "# plt.imshow(img, cmap=plt.get_cmap('gray'))"
   ]
  },
  {
   "cell_type": "code",
   "execution_count": 2,
   "metadata": {
    "colab": {
     "base_uri": "https://localhost:8080/",
     "height": 151
    },
    "colab_type": "code",
    "executionInfo": {
     "elapsed": 4216,
     "status": "ok",
     "timestamp": 1572533698432,
     "user": {
      "displayName": "Linh Nguyễn Thoại",
      "photoUrl": "https://lh3.googleusercontent.com/a-/AAuE7mCC-xalFBoCUcwkgomiFHzxVVUlCiAH_VneXKBmsw=s64",
      "userId": "04932461416660426458"
     },
     "user_tz": -420
    },
    "id": "cXtI6hYrJeO5",
    "outputId": "fa5cfeaf-4f88-48f6-cd94-a04e5705ec56"
   },
   "outputs": [],
   "source": [
    "# import keras\n",
    "# from keras.models import load_model\n",
    "from tensorflow.keras.models import load_model\n",
    "model = load_model('../model/model.h5')"
   ]
  },
  {
   "cell_type": "code",
   "execution_count": 3,
   "metadata": {
    "colab": {},
    "colab_type": "code",
    "id": "k8FDxfBwMpGE"
   },
   "outputs": [],
   "source": [
    "import numpy as np\n",
    "# img = np.asarray(img)\n",
    "data = []\n",
    "img = cv2.imread('../test/camqueotrai0.jpg')\n",
    "image_from_array = Image.fromarray(img, 'RGB')\n",
    "img = image_from_array.resize((30, 30))\n",
    "data.append(np.array(img))\n",
    "X_test=np.array(data)\n",
    "X_test = X_test.astype('float32')/255 \n",
    "# img = cv2.cvtColor(img, cv2.COLOR_BGR2GRAY)\n",
    "# img = cv2.equalizeHist(img)\n",
    "# img = img/255\n",
    "# plt.imshow(img, cmap = plt.get_cmap('gray'))\n",
    "# plt.axis('off')\n",
    "# print(img.shape)"
   ]
  },
  {
   "cell_type": "code",
   "execution_count": 4,
   "metadata": {
    "colab": {},
    "colab_type": "code",
    "id": "zYlCbqHKKg-N"
   },
   "outputs": [],
   "source": [
    "# traffic_sign = img.reshape(30,30,3)\n",
    "prediction = model.predict_classes(X_test )"
   ]
  },
  {
   "cell_type": "code",
   "execution_count": 5,
   "metadata": {
    "colab": {
     "base_uri": "https://localhost:8080/",
     "height": 34
    },
    "colab_type": "code",
    "executionInfo": {
     "elapsed": 850,
     "status": "ok",
     "timestamp": 1572533710883,
     "user": {
      "displayName": "Linh Nguyễn Thoại",
      "photoUrl": "https://lh3.googleusercontent.com/a-/AAuE7mCC-xalFBoCUcwkgomiFHzxVVUlCiAH_VneXKBmsw=s64",
      "userId": "04932461416660426458"
     },
     "user_tz": -420
    },
    "id": "nlQtKN0EKisS",
    "outputId": "ec922459-6a12-493d-acc2-3d2d6c9d2d3d"
   },
   "outputs": [
    {
     "data": {
      "text/plain": [
       "array([4])"
      ]
     },
     "execution_count": 5,
     "metadata": {},
     "output_type": "execute_result"
    }
   ],
   "source": [
    "prediction"
   ]
  },
  {
   "cell_type": "code",
   "execution_count": 0,
   "metadata": {
    "colab": {},
    "colab_type": "code",
    "id": "uwB_0uCEUCw1"
   },
   "outputs": [],
   "source": []
  }
 ],
 "metadata": {
  "accelerator": "GPU",
  "colab": {
   "collapsed_sections": [],
   "name": "Untitled0.ipynb",
   "provenance": []
  },
  "kernelspec": {
   "display_name": "Python 3",
   "language": "python",
   "name": "python3"
  },
  "language_info": {
   "codemirror_mode": {
    "name": "ipython",
    "version": 3
   },
   "file_extension": ".py",
   "mimetype": "text/x-python",
   "name": "python",
   "nbconvert_exporter": "python",
   "pygments_lexer": "ipython3",
   "version": "3.6.9"
  }
 },
 "nbformat": 4,
 "nbformat_minor": 1
}
